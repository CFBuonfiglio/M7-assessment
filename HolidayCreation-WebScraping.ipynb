{
 "cells": [
  {
   "cell_type": "code",
   "execution_count": 1,
   "id": "e83db0b1",
   "metadata": {},
   "outputs": [],
   "source": [
    "import requests\n",
    "import json\n",
    "from bs4 import BeautifulSoup\n",
    "\n",
    "def getHTML(url):\n",
    "    response = requests.get(url)\n",
    "    return response.text"
   ]
  },
  {
   "cell_type": "code",
   "execution_count": 2,
   "id": "6f9a23d4",
   "metadata": {},
   "outputs": [],
   "source": [
    "requestlist = []\n",
    "soups = []\n",
    "tables = []\n",
    "\n",
    "#Get page HTML\n",
    "for i in range(1,5):\n",
    "    requestlist.append(getHTML(f'https://www.timeanddate.com/holidays/us/202{i}'))\n",
    "\n",
    "#Build BeautifulSoup objects\n",
    "for i in range(len(requestlist)):\n",
    "    soups.append(BeautifulSoup(requestlist[i], 'html.parser'))\n",
    "\n",
    "#Extract holiday tables from pages\n",
    "for i in range(len(soups)):\n",
    "    tables.append(soups[i].find('table', attrs = {'id': 'holidays-table'}))\n",
    "    \n",
    "#Index 0 is 2021; index 1 is 2022; index 2 is 2023; index 3 is 2024"
   ]
  },
  {
   "cell_type": "code",
   "execution_count": 3,
   "id": "aa052e09",
   "metadata": {},
   "outputs": [],
   "source": [
    "dates = []\n",
    "holidays = []\n",
    "\n",
    "#Build list of dates from each table\n",
    "for i in range(len(tables)):\n",
    "    dates.append(tables[0].find_all('th', attrs = {'class' : 'nw'}))\n",
    "\n",
    "#Build list of holidays from each tables\n",
    "for i in range(len(tables)):\n",
    "    holidays.append(tables[0].find_all('a'))"
   ]
  },
  {
   "cell_type": "code",
   "execution_count": 4,
   "id": "cfaed118",
   "metadata": {},
   "outputs": [],
   "source": [
    "finaldates = [[], [], [], []]\n",
    "\n",
    "#Cleaning \n",
    "for i in range(len(dates)):\n",
    "    for k in range(len(dates[i])):\n",
    "        if 'Jan' in dates[i][k].text:\n",
    "            finaldates[i].append(dates[i][k].text.replace('Jan ', '01/') + f'/2{i + 1}')\n",
    "        if 'Feb' in dates[i][k].text:\n",
    "            finaldates[i].append(dates[i][k].text.replace('Feb ', '02/') + f'/2{i + 1}')\n",
    "        if 'Mar' in dates[i][k].text:\n",
    "            finaldates[i].append(dates[i][k].text.replace('Mar ', '03/') + f'/2{i + 1}')\n",
    "        if 'Apr' in dates[i][k].text:\n",
    "            finaldates[i].append(dates[i][k].text.replace('Apr ', '04/') + f'/2{i + 1}')\n",
    "        if 'May' in dates[i][k].text:\n",
    "            finaldates[i].append(dates[i][k].text.replace('May ', '05/') + f'/2{i + 1}')\n",
    "        if 'Jun' in dates[i][k].text:\n",
    "            finaldates[i].append(dates[i][k].text.replace('Jun ', '06/') + f'/2{i + 1}')\n",
    "        if 'Jul' in dates[i][k].text:\n",
    "            finaldates[i].append(dates[i][k].text.replace('Jul ', '07/') + f'/2{i + 1}')\n",
    "        if 'Aug' in dates[i][k].text:\n",
    "            finaldates[i].append(dates[i][k].text.replace('Aug ', '08/') + f'/2{i + 1}')\n",
    "        if 'Sep' in dates[i][k].text:\n",
    "            finaldates[i].append(dates[i][k].text.replace('Sep ', '09/') + f'/2{i + 1}')\n",
    "        if 'Oct' in dates[i][k].text:\n",
    "            finaldates[i].append(dates[i][k].text.replace('Oct ', '10/') + f'/2{i + 1}')\n",
    "        if 'Nov' in dates[i][k].text:\n",
    "            finaldates[i].append(dates[i][k].text.replace('Nov ', '11/') + f'/2{i + 1}')\n",
    "        if 'Dec' in dates[i][k].text:\n",
    "            finaldates[i].append(dates[i][k].text.replace('Dec ', '12/') + f'/2{i + 1}')\n",
    "\n",
    "for i in range(len(finaldates)):\n",
    "    for k in range(len(finaldates[i])):\n",
    "        if len(finaldates[i][k]) < 8:\n",
    "            finaldates[i][k] = finaldates[i][k][:3] + '0' + finaldates[i][k][3:]"
   ]
  },
  {
   "cell_type": "code",
   "execution_count": 5,
   "id": "f50d54fb",
   "metadata": {},
   "outputs": [],
   "source": [
    "files = [{'holidays' : []}, {'holidays' : []}, {'holidays' : []}, {'holidays' : []}]"
   ]
  },
  {
   "cell_type": "code",
   "execution_count": 6,
   "id": "f95d4b92",
   "metadata": {},
   "outputs": [],
   "source": [
    "for i in range(len(files)):\n",
    "    for k in range(len(finaldates[i])):\n",
    "        files[i]['holidays'].append({\n",
    "            'name': holidays[i][k].text,\n",
    "            'date': finaldates[i][k]\n",
    "        })"
   ]
  },
  {
   "cell_type": "code",
   "execution_count": 7,
   "id": "834d547a",
   "metadata": {},
   "outputs": [],
   "source": [
    "for i in range(len(files)):\n",
    "    with open(f'holidays202{i + 1}.json', 'w') as outfile:\n",
    "        json.dump(files[i], outfile)"
   ]
  }
 ],
 "metadata": {
  "kernelspec": {
   "display_name": "Python 3 (ipykernel)",
   "language": "python",
   "name": "python3"
  },
  "language_info": {
   "codemirror_mode": {
    "name": "ipython",
    "version": 3
   },
   "file_extension": ".py",
   "mimetype": "text/x-python",
   "name": "python",
   "nbconvert_exporter": "python",
   "pygments_lexer": "ipython3",
   "version": "3.9.5"
  }
 },
 "nbformat": 4,
 "nbformat_minor": 5
}
